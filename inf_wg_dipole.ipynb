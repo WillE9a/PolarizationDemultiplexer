{
 "cells": [
  {
   "cell_type": "markdown",
   "id": "a1f41dab",
   "metadata": {},
   "source": [
    "This example demonstrates the asymmetric coupling at different resolutions. One would expect the coupling to the same waveguide to be identical in both directions, but that is not the case at lower resolutions. This shouldn't be a huge problem since our final device will only have waveguides in the (+) directions"
   ]
  },
  {
   "cell_type": "code",
   "execution_count": 1,
   "id": "fe01fdec",
   "metadata": {},
   "outputs": [
    {
     "name": "stdout",
     "output_type": "stream",
     "text": [
      "Using MPI version 3.1, 1 processes\n"
     ]
    }
   ],
   "source": [
    "import meep as mp\n",
    "import numpy as np\n",
    "from matplotlib import pyplot as plt\n",
    "\n",
    "res_arr = [20,40,60,80,100,120,140]\n",
    "res = res_arr[0]\n",
    "fcen = 1/0.93\n",
    "df = fcen**2*0.01\n",
    "nfreq = 50\n",
    "fcen_index = nfreq//2 - 1\n",
    "\n",
    "GaAs = mp.Medium(index=3.45)\n",
    "Sx, Sy = 4, 4\n",
    "\n",
    "# waveguide dimensions\n",
    "wg_w = 0.30\n",
    "wg_l = mp.inf\n",
    "\n",
    "pml_layers = [mp.PML(1.0)]\n",
    "cell = mp.Vector3(Sx, Sy)"
   ]
  },
  {
   "cell_type": "code",
   "execution_count": 2,
   "id": "bb27083b",
   "metadata": {},
   "outputs": [],
   "source": [
    "\n",
    "geometry = [mp.Block(material=mp.air, center=mp.Vector3(0,0,0), size=mp.Vector3(Sx, Sy, 0)), \n",
    "            mp.Block(material=GaAs, center=mp.Vector3(0,0,0), size=mp.Vector3(wg_l, wg_w, 0))]\n",
    "                     \n",
    "source = [mp.Source(mp.GaussianSource(frequency=fcen, fwidth=df),\n",
    "                    component = mp.Ey,\n",
    "                    center = mp.Vector3(0,0,0),\n",
    "                    size = mp.Vector3(0,0,0))]                   \n",
    "sim = mp.Simulation(cell_size = cell,\n",
    "                    geometry = geometry,\n",
    "                    boundary_layers = pml_layers,\n",
    "                    sources = source,\n",
    "                    resolution = res)"
   ]
  },
  {
   "cell_type": "code",
   "execution_count": 3,
   "id": "5f1fe6d4",
   "metadata": {},
   "outputs": [],
   "source": [
    "# setup the monitors\n",
    "xp_mon = mp.FluxRegion(center=mp.Vector3(0.6,0,0), size=mp.Vector3(0, 2*wg_w, 0))\n",
    "xm_mon = mp.FluxRegion(center=mp.Vector3(-0.6,0,0), size=mp.Vector3(0, 2*wg_w, 0))\n",
    "\n",
    "yp_mon = mp.FluxRegion(center=mp.Vector3(0,wg_w,0), size=mp.Vector3(4*wg_w, 0,0))\n",
    "ym_mon = mp.FluxRegion(center=mp.Vector3(0,-wg_w,0), size=mp.Vector3(4*wg_w, 0, 0))\n",
    "\n",
    "xp_flux = sim.add_flux(fcen, df, nfreq, xp_mon)\n",
    "xm_flux = sim.add_flux(fcen, df, nfreq, xm_mon)\n",
    "yp_flux = sim.add_flux(fcen, df, nfreq, yp_mon)\n",
    "ym_flux = sim.add_flux(fcen, df, nfreq, ym_mon)"
   ]
  },
  {
   "cell_type": "code",
   "execution_count": 4,
   "id": "9c0e8c10",
   "metadata": {},
   "outputs": [
    {
     "name": "stdout",
     "output_type": "stream",
     "text": [
      "-----------\n",
      "Initializing structure...\n",
      "time for choose_chunkdivision = 0.000205994 s\n",
      "Working in 2D dimensions.\n",
      "Computational cell is 4 x 4 x 0 with resolution 20\n",
      "     block, center = (0,0,0)\n",
      "          size (4,4,0)\n",
      "          axes (1,0,0), (0,1,0), (0,0,1)\n",
      "          dielectric constant epsilon diagonal = (1,1,1)\n",
      "     block, center = (0,0,0)\n",
      "          size (1e+20,0.3,0)\n",
      "          axes (1,0,0), (0,1,0), (0,0,1)\n",
      "          dielectric constant epsilon diagonal = (11.9025,11.9025,11.9025)\n",
      "time for set_epsilon = 0.0143189 s\n",
      "-----------\n"
     ]
    },
    {
     "data": {
      "image/png": "[encoded data removed]",
      "text/plain": [
       "<Figure size 432x288 with 1 Axes>"
      ]
     },
     "metadata": {
      "needs_background": "light"
     },
     "output_type": "display_data"
    }
   ],
   "source": [
    "sim.plot2D(plot_boundaries_flag=True, plot_monitors_flag=True, plot_sources_flag=True)\n",
    "plt.show()"
   ]
  },
  {
   "cell_type": "code",
   "execution_count": 5,
   "id": "1c9a37c9",
   "metadata": {},
   "outputs": [
    {
     "name": "stdout",
     "output_type": "stream",
     "text": [
      "field decay(t = 50.025000000000006): 1.998783521297459e-09 / 1.998783521297459e-09 = 1.0\n",
      "field decay(t = 100.05000000000001): 2.496822504794971e-07 / 2.496822504794971e-07 = 1.0\n",
      "field decay(t = 150.07500000000002): 1.5729581034546273e-05 / 1.5729581034546273e-05 = 1.0\n",
      "field decay(t = 200.10000000000002): 0.0005165270015634136 / 0.0005165270015634136 = 1.0\n",
      "field decay(t = 250.125): 0.008476736295082315 / 0.008476736295082315 = 1.0\n",
      "field decay(t = 300.15000000000003): 0.07269391433961199 / 0.07269391433961199 = 1.0\n",
      "field decay(t = 350.175): 0.3156536182826204 / 0.3156536182826204 = 1.0\n",
      "field decay(t = 400.20000000000005): 0.7068737039667834 / 0.7068737039667834 = 1.0\n",
      "field decay(t = 450.225): 0.8359747145387291 / 0.8359747145387291 = 1.0\n",
      "field decay(t = 500.25): 0.8094451161714649 / 0.8359747145387291 = 0.968265070813891\n",
      "field decay(t = 550.275): 0.4719631352324149 / 0.8359747145387291 = 0.5645662805636806\n",
      "field decay(t = 600.3000000000001): 0.14041229233593958 / 0.8359747145387291 = 0.16796236763382938\n",
      "field decay(t = 650.325): 0.021662226923763885 / 0.8359747145387291 = 0.025912538438099274\n",
      "field decay(t = 700.35): 0.001682913523648436 / 0.8359747145387291 = 0.002013115342342654\n",
      "field decay(t = 750.375): 6.869594361418793e-05 / 0.8359747145387291 = 8.217466679251503e-05\n",
      "field decay(t = 800.4000000000001): 1.393623675108148e-06 / 0.8359747145387291 = 1.6670643870815117e-06\n",
      "field decay(t = 850.4250000000001): 1.436717275106484e-08 / 0.8359747145387291 = 1.7186133146374293e-08\n",
      "field decay(t = 900.45): 7.960296573772718e-11 / 0.8359747145387291 = 9.522173859247669e-11\n",
      "run 0 finished at t = 900.45 (36018 timesteps)\n"
     ]
    }
   ],
   "source": [
    "pt = mp.Vector3(0.6, 0, 0)\n",
    "sim.run(until_after_sources=mp.stop_when_fields_decayed(50, mp.Ey, pt, 1e-3))"
   ]
  },
  {
   "cell_type": "code",
   "execution_count": 6,
   "id": "64fc7129",
   "metadata": {},
   "outputs": [
    {
     "name": "stdout",
     "output_type": "stream",
     "text": [
      "MPB solved for frequency_1(3.68973,0,0) = 1.16128 after 24 iters\n",
      "MPB solved for frequency_1(3.36096,0,0) = 1.06957 after 7 iters\n",
      "MPB solved for frequency_1(3.36067,0,0) = 1.06949 after 4 iters\n",
      "MPB solved for frequency_1(3.36067,0,0) = 1.06949 after 1 iters\n",
      "Dominant planewave for band 1: (3.360673,-0.000000,0.000000)\n",
      "MPB solved for frequency_1(3.36152,0,0) = 1.06972 after 22 iters\n",
      "MPB solved for frequency_1(3.36152,0,0) = 1.06972 after 1 iters\n",
      "Dominant planewave for band 1: (3.361520,-0.000000,0.000000)\n",
      "MPB solved for frequency_1(3.36237,0,0) = 1.06996 after 22 iters\n",
      "MPB solved for frequency_1(3.36237,0,0) = 1.06996 after 1 iters\n",
      "Dominant planewave for band 1: (3.362367,-0.000000,0.000000)\n",
      "MPB solved for frequency_1(3.36321,0,0) = 1.0702 after 22 iters\n",
      "MPB solved for frequency_1(3.36321,0,0) = 1.0702 after 1 iters\n",
      "Dominant planewave for band 1: (3.363213,-0.000000,0.000000)\n",
      "MPB solved for frequency_1(3.36406,0,0) = 1.07043 after 22 iters\n",
      "MPB solved for frequency_1(3.36406,0,0) = 1.07043 after 1 iters\n",
      "Dominant planewave for band 1: (3.364060,-0.000000,0.000000)\n",
      "MPB solved for frequency_1(3.36491,0,0) = 1.07067 after 22 iters\n",
      "MPB solved for frequency_1(3.36491,0,0) = 1.07067 after 1 iters\n",
      "Dominant planewave for band 1: (3.364906,-0.000000,0.000000)\n",
      "MPB solved for frequency_1(3.36575,0,0) = 1.0709 after 22 iters\n",
      "MPB solved for frequency_1(3.36575,0,0) = 1.0709 after 1 iters\n",
      "Dominant planewave for band 1: (3.365753,-0.000000,0.000000)\n",
      "MPB solved for frequency_1(3.3666,0,0) = 1.07114 after 22 iters\n",
      "MPB solved for frequency_1(3.3666,0,0) = 1.07114 after 1 iters\n",
      "Dominant planewave for band 1: (3.366599,-0.000000,0.000000)\n",
      "MPB solved for frequency_1(3.36745,0,0) = 1.07138 after 22 iters\n",
      "MPB solved for frequency_1(3.36745,0,0) = 1.07138 after 1 iters\n",
      "Dominant planewave for band 1: (3.367446,-0.000000,0.000000)\n",
      "MPB solved for frequency_1(3.36829,0,0) = 1.07161 after 22 iters\n",
      "MPB solved for frequency_1(3.36829,0,0) = 1.07161 after 1 iters\n",
      "Dominant planewave for band 1: (3.368292,-0.000000,0.000000)\n",
      "MPB solved for frequency_1(3.36914,0,0) = 1.07185 after 22 iters\n",
      "MPB solved for frequency_1(3.36914,0,0) = 1.07185 after 1 iters\n",
      "Dominant planewave for band 1: (3.369139,-0.000000,0.000000)\n",
      "MPB solved for frequency_1(3.36999,0,0) = 1.07208 after 22 iters\n",
      "MPB solved for frequency_1(3.36999,0,0) = 1.07208 after 1 iters\n",
      "Dominant planewave for band 1: (3.369985,-0.000000,0.000000)\n",
      "MPB solved for frequency_1(3.37083,0,0) = 1.07232 after 22 iters\n",
      "MPB solved for frequency_1(3.37083,0,0) = 1.07232 after 1 iters\n",
      "Dominant planewave for band 1: (3.370832,-0.000000,0.000000)\n",
      "MPB solved for frequency_1(3.37168,0,0) = 1.07256 after 22 iters\n",
      "MPB solved for frequency_1(3.37168,0,0) = 1.07256 after 1 iters\n",
      "Dominant planewave for band 1: (3.371678,-0.000000,0.000000)\n",
      "MPB solved for frequency_1(3.37252,0,0) = 1.07279 after 22 iters\n",
      "MPB solved for frequency_1(3.37252,0,0) = 1.07279 after 1 iters\n",
      "Dominant planewave for band 1: (3.372525,-0.000000,0.000000)\n",
      "MPB solved for frequency_1(3.37337,0,0) = 1.07303 after 22 iters\n",
      "MPB solved for frequency_1(3.37337,0,0) = 1.07303 after 1 iters\n",
      "Dominant planewave for band 1: (3.373371,-0.000000,0.000000)\n",
      "MPB solved for frequency_1(3.37422,0,0) = 1.07326 after 22 iters\n",
      "MPB solved for frequency_1(3.37422,0,0) = 1.07326 after 1 iters\n",
      "Dominant planewave for band 1: (3.374218,-0.000000,0.000000)\n",
      "MPB solved for frequency_1(3.37506,0,0) = 1.0735 after 22 iters\n",
      "MPB solved for frequency_1(3.37506,0,0) = 1.0735 after 1 iters\n",
      "Dominant planewave for band 1: (3.375064,-0.000000,0.000000)\n",
      "MPB solved for frequency_1(3.37591,0,0) = 1.07374 after 22 iters\n",
      "MPB solved for frequency_1(3.37591,0,0) = 1.07374 after 1 iters\n",
      "Dominant planewave for band 1: (3.375911,-0.000000,0.000000)\n",
      "MPB solved for frequency_1(3.37676,0,0) = 1.07397 after 22 iters\n",
      "MPB solved for frequency_1(3.37676,0,0) = 1.07397 after 1 iters\n",
      "Dominant planewave for band 1: (3.376757,-0.000000,0.000000)\n",
      "MPB solved for frequency_1(3.3776,0,0) = 1.07421 after 22 iters\n",
      "MPB solved for frequency_1(3.3776,0,0) = 1.07421 after 1 iters\n",
      "Dominant planewave for band 1: (3.377604,-0.000000,0.000000)\n",
      "MPB solved for frequency_1(3.37845,0,0) = 1.07444 after 22 iters\n",
      "MPB solved for frequency_1(3.37845,0,0) = 1.07444 after 1 iters\n",
      "Dominant planewave for band 1: (3.378450,-0.000000,0.000000)\n",
      "MPB solved for frequency_1(3.3793,0,0) = 1.07468 after 22 iters\n",
      "MPB solved for frequency_1(3.3793,0,0) = 1.07468 after 1 iters\n",
      "Dominant planewave for band 1: (3.379296,-0.000000,0.000000)\n",
      "MPB solved for frequency_1(3.38014,0,0) = 1.07491 after 22 iters\n",
      "MPB solved for frequency_1(3.38014,0,0) = 1.07491 after 1 iters\n",
      "Dominant planewave for band 1: (3.380143,-0.000000,0.000000)\n",
      "MPB solved for frequency_1(3.38099,0,0) = 1.07515 after 22 iters\n",
      "MPB solved for frequency_1(3.38099,0,0) = 1.07515 after 1 iters\n",
      "Dominant planewave for band 1: (3.380989,-0.000000,0.000000)\n",
      "MPB solved for frequency_1(3.38184,0,0) = 1.07539 after 22 iters\n",
      "MPB solved for frequency_1(3.38184,0,0) = 1.07539 after 1 iters\n",
      "Dominant planewave for band 1: (3.381836,-0.000000,0.000000)\n",
      "MPB solved for frequency_1(3.38268,0,0) = 1.07562 after 22 iters\n",
      "MPB solved for frequency_1(3.38268,0,0) = 1.07562 after 1 iters\n",
      "Dominant planewave for band 1: (3.382682,-0.000000,0.000000)\n",
      "MPB solved for frequency_1(3.38353,0,0) = 1.07586 after 22 iters\n",
      "MPB solved for frequency_1(3.38353,0,0) = 1.07586 after 1 iters\n",
      "Dominant planewave for band 1: (3.383529,-0.000000,0.000000)\n",
      "MPB solved for frequency_1(3.38438,0,0) = 1.07609 after 22 iters\n",
      "MPB solved for frequency_1(3.38438,0,0) = 1.07609 after 1 iters\n",
      "Dominant planewave for band 1: (3.384375,-0.000000,0.000000)\n",
      "MPB solved for frequency_1(3.38522,0,0) = 1.07633 after 22 iters\n",
      "MPB solved for frequency_1(3.38522,0,0) = 1.07633 after 1 iters\n",
      "Dominant planewave for band 1: (3.385222,-0.000000,0.000000)\n",
      "MPB solved for frequency_1(3.38607,0,0) = 1.07657 after 22 iters\n",
      "MPB solved for frequency_1(3.38607,0,0) = 1.07657 after 1 iters\n",
      "Dominant planewave for band 1: (3.386068,-0.000000,0.000000)\n",
      "MPB solved for frequency_1(3.38691,0,0) = 1.0768 after 22 iters\n",
      "MPB solved for frequency_1(3.38691,0,0) = 1.0768 after 1 iters\n",
      "Dominant planewave for band 1: (3.386915,-0.000000,0.000000)\n",
      "MPB solved for frequency_1(3.38776,0,0) = 1.07704 after 23 iters\n",
      "MPB solved for frequency_1(3.38776,0,0) = 1.07704 after 1 iters\n",
      "Dominant planewave for band 1: (3.387761,-0.000000,0.000000)\n",
      "MPB solved for frequency_1(3.38861,0,0) = 1.07727 after 23 iters\n",
      "MPB solved for frequency_1(3.38861,0,0) = 1.07727 after 1 iters\n",
      "Dominant planewave for band 1: (3.388607,-0.000000,0.000000)\n",
      "MPB solved for frequency_1(3.38945,0,0) = 1.07751 after 23 iters\n",
      "MPB solved for frequency_1(3.38945,0,0) = 1.07751 after 1 iters\n",
      "Dominant planewave for band 1: (3.389454,-0.000000,0.000000)\n",
      "MPB solved for frequency_1(3.3903,0,0) = 1.07775 after 23 iters\n",
      "MPB solved for frequency_1(3.3903,0,0) = 1.07775 after 1 iters\n",
      "Dominant planewave for band 1: (3.390300,-0.000000,0.000000)\n",
      "MPB solved for frequency_1(3.39115,0,0) = 1.07798 after 23 iters\n",
      "MPB solved for frequency_1(3.39115,0,0) = 1.07798 after 1 iters\n",
      "Dominant planewave for band 1: (3.391147,-0.000000,0.000000)\n",
      "MPB solved for frequency_1(3.39199,0,0) = 1.07822 after 23 iters\n",
      "MPB solved for frequency_1(3.39199,0,0) = 1.07822 after 1 iters\n",
      "Dominant planewave for band 1: (3.391993,-0.000000,0.000000)\n",
      "MPB solved for frequency_1(3.39284,0,0) = 1.07845 after 23 iters\n",
      "MPB solved for frequency_1(3.39284,0,0) = 1.07845 after 1 iters\n",
      "Dominant planewave for band 1: (3.392840,-0.000000,0.000000)\n",
      "MPB solved for frequency_1(3.39369,0,0) = 1.07869 after 23 iters\n",
      "MPB solved for frequency_1(3.39369,0,0) = 1.07869 after 1 iters\n",
      "Dominant planewave for band 1: (3.393686,-0.000000,0.000000)\n",
      "MPB solved for frequency_1(3.39453,0,0) = 1.07893 after 23 iters\n",
      "MPB solved for frequency_1(3.39453,0,0) = 1.07893 after 1 iters\n",
      "Dominant planewave for band 1: (3.394532,-0.000000,0.000000)\n",
      "MPB solved for frequency_1(3.39538,0,0) = 1.07916 after 23 iters\n",
      "MPB solved for frequency_1(3.39538,0,0) = 1.07916 after 1 iters\n",
      "Dominant planewave for band 1: (3.395379,-0.000000,0.000000)\n",
      "MPB solved for frequency_1(3.39623,0,0) = 1.0794 after 23 iters\n",
      "MPB solved for frequency_1(3.39623,0,0) = 1.0794 after 1 iters\n"
     ]
    },
    {
     "name": "stdout",
     "output_type": "stream",
     "text": [
      "Dominant planewave for band 1: (3.396225,-0.000000,0.000000)\n",
      "MPB solved for frequency_1(3.39707,0,0) = 1.07963 after 23 iters\n",
      "MPB solved for frequency_1(3.39707,0,0) = 1.07963 after 1 iters\n",
      "Dominant planewave for band 1: (3.397072,-0.000000,0.000000)\n",
      "MPB solved for frequency_1(3.39792,0,0) = 1.07987 after 23 iters\n",
      "MPB solved for frequency_1(3.39792,0,0) = 1.07987 after 1 iters\n",
      "Dominant planewave for band 1: (3.397918,-0.000000,0.000000)\n",
      "MPB solved for frequency_1(3.39876,0,0) = 1.08011 after 23 iters\n",
      "MPB solved for frequency_1(3.39876,0,0) = 1.08011 after 1 iters\n",
      "Dominant planewave for band 1: (3.398764,-0.000000,0.000000)\n",
      "MPB solved for frequency_1(3.39961,0,0) = 1.08034 after 23 iters\n",
      "MPB solved for frequency_1(3.39961,0,0) = 1.08034 after 1 iters\n",
      "Dominant planewave for band 1: (3.399611,-0.000000,0.000000)\n",
      "MPB solved for frequency_1(3.40046,0,0) = 1.08058 after 23 iters\n",
      "MPB solved for frequency_1(3.40046,0,0) = 1.08058 after 1 iters\n",
      "Dominant planewave for band 1: (3.400457,-0.000000,0.000000)\n",
      "MPB solved for frequency_1(3.4013,0,0) = 1.08081 after 23 iters\n",
      "MPB solved for frequency_1(3.4013,0,0) = 1.08081 after 1 iters\n",
      "Dominant planewave for band 1: (3.401304,-0.000000,0.000000)\n",
      "MPB solved for frequency_1(3.40215,0,0) = 1.08105 after 23 iters\n",
      "MPB solved for frequency_1(3.40215,0,0) = 1.08105 after 1 iters\n",
      "Dominant planewave for band 1: (3.402150,-0.000000,0.000000)\n",
      "MPB solved for frequency_1(3.68973,0,0) = 1.16128 after 24 iters\n",
      "MPB solved for frequency_1(3.36096,0,0) = 1.06957 after 7 iters\n",
      "MPB solved for frequency_1(3.36067,0,0) = 1.06949 after 4 iters\n",
      "MPB solved for frequency_1(3.36067,0,0) = 1.06949 after 1 iters\n",
      "Dominant planewave for band 1: (3.360673,-0.000000,0.000000)\n",
      "MPB solved for frequency_1(3.36152,0,0) = 1.06972 after 22 iters\n",
      "MPB solved for frequency_1(3.36152,0,0) = 1.06972 after 1 iters\n",
      "Dominant planewave for band 1: (3.361520,-0.000000,0.000000)\n",
      "MPB solved for frequency_1(3.36237,0,0) = 1.06996 after 22 iters\n",
      "MPB solved for frequency_1(3.36237,0,0) = 1.06996 after 1 iters\n",
      "Dominant planewave for band 1: (3.362367,-0.000000,0.000000)\n",
      "MPB solved for frequency_1(3.36321,0,0) = 1.0702 after 22 iters\n",
      "MPB solved for frequency_1(3.36321,0,0) = 1.0702 after 1 iters\n",
      "Dominant planewave for band 1: (3.363213,-0.000000,0.000000)\n",
      "MPB solved for frequency_1(3.36406,0,0) = 1.07043 after 22 iters\n",
      "MPB solved for frequency_1(3.36406,0,0) = 1.07043 after 1 iters\n",
      "Dominant planewave for band 1: (3.364060,-0.000000,0.000000)\n",
      "MPB solved for frequency_1(3.36491,0,0) = 1.07067 after 22 iters\n",
      "MPB solved for frequency_1(3.36491,0,0) = 1.07067 after 1 iters\n",
      "Dominant planewave for band 1: (3.364906,-0.000000,0.000000)\n",
      "MPB solved for frequency_1(3.36575,0,0) = 1.0709 after 22 iters\n",
      "MPB solved for frequency_1(3.36575,0,0) = 1.0709 after 1 iters\n",
      "Dominant planewave for band 1: (3.365753,-0.000000,0.000000)\n",
      "MPB solved for frequency_1(3.3666,0,0) = 1.07114 after 22 iters\n",
      "MPB solved for frequency_1(3.3666,0,0) = 1.07114 after 1 iters\n",
      "Dominant planewave for band 1: (3.366599,-0.000000,0.000000)\n",
      "MPB solved for frequency_1(3.36745,0,0) = 1.07138 after 22 iters\n",
      "MPB solved for frequency_1(3.36745,0,0) = 1.07138 after 1 iters\n",
      "Dominant planewave for band 1: (3.367446,-0.000000,0.000000)\n",
      "MPB solved for frequency_1(3.36829,0,0) = 1.07161 after 22 iters\n",
      "MPB solved for frequency_1(3.36829,0,0) = 1.07161 after 1 iters\n",
      "Dominant planewave for band 1: (3.368292,-0.000000,0.000000)\n",
      "MPB solved for frequency_1(3.36914,0,0) = 1.07185 after 22 iters\n",
      "MPB solved for frequency_1(3.36914,0,0) = 1.07185 after 1 iters\n",
      "Dominant planewave for band 1: (3.369139,-0.000000,0.000000)\n",
      "MPB solved for frequency_1(3.36999,0,0) = 1.07208 after 22 iters\n",
      "MPB solved for frequency_1(3.36999,0,0) = 1.07208 after 1 iters\n",
      "Dominant planewave for band 1: (3.369985,-0.000000,0.000000)\n",
      "MPB solved for frequency_1(3.37083,0,0) = 1.07232 after 22 iters\n",
      "MPB solved for frequency_1(3.37083,0,0) = 1.07232 after 1 iters\n",
      "Dominant planewave for band 1: (3.370832,-0.000000,0.000000)\n",
      "MPB solved for frequency_1(3.37168,0,0) = 1.07256 after 22 iters\n",
      "MPB solved for frequency_1(3.37168,0,0) = 1.07256 after 1 iters\n",
      "Dominant planewave for band 1: (3.371678,-0.000000,0.000000)\n",
      "MPB solved for frequency_1(3.37252,0,0) = 1.07279 after 22 iters\n",
      "MPB solved for frequency_1(3.37252,0,0) = 1.07279 after 1 iters\n",
      "Dominant planewave for band 1: (3.372525,-0.000000,0.000000)\n",
      "MPB solved for frequency_1(3.37337,0,0) = 1.07303 after 22 iters\n",
      "MPB solved for frequency_1(3.37337,0,0) = 1.07303 after 1 iters\n",
      "Dominant planewave for band 1: (3.373371,-0.000000,0.000000)\n",
      "MPB solved for frequency_1(3.37422,0,0) = 1.07326 after 22 iters\n",
      "MPB solved for frequency_1(3.37422,0,0) = 1.07326 after 1 iters\n",
      "Dominant planewave for band 1: (3.374218,-0.000000,0.000000)\n",
      "MPB solved for frequency_1(3.37506,0,0) = 1.0735 after 22 iters\n",
      "MPB solved for frequency_1(3.37506,0,0) = 1.0735 after 1 iters\n",
      "Dominant planewave for band 1: (3.375064,-0.000000,0.000000)\n",
      "MPB solved for frequency_1(3.37591,0,0) = 1.07374 after 22 iters\n",
      "MPB solved for frequency_1(3.37591,0,0) = 1.07374 after 1 iters\n",
      "Dominant planewave for band 1: (3.375911,-0.000000,0.000000)\n",
      "MPB solved for frequency_1(3.37676,0,0) = 1.07397 after 22 iters\n",
      "MPB solved for frequency_1(3.37676,0,0) = 1.07397 after 1 iters\n",
      "Dominant planewave for band 1: (3.376757,-0.000000,0.000000)\n",
      "MPB solved for frequency_1(3.3776,0,0) = 1.07421 after 22 iters\n",
      "MPB solved for frequency_1(3.3776,0,0) = 1.07421 after 1 iters\n",
      "Dominant planewave for band 1: (3.377604,-0.000000,0.000000)\n",
      "MPB solved for frequency_1(3.37845,0,0) = 1.07444 after 22 iters\n",
      "MPB solved for frequency_1(3.37845,0,0) = 1.07444 after 1 iters\n",
      "Dominant planewave for band 1: (3.378450,-0.000000,0.000000)\n",
      "MPB solved for frequency_1(3.3793,0,0) = 1.07468 after 22 iters\n",
      "MPB solved for frequency_1(3.3793,0,0) = 1.07468 after 1 iters\n",
      "Dominant planewave for band 1: (3.379296,-0.000000,0.000000)\n",
      "MPB solved for frequency_1(3.38014,0,0) = 1.07491 after 22 iters\n",
      "MPB solved for frequency_1(3.38014,0,0) = 1.07491 after 1 iters\n",
      "Dominant planewave for band 1: (3.380143,-0.000000,0.000000)\n",
      "MPB solved for frequency_1(3.38099,0,0) = 1.07515 after 22 iters\n",
      "MPB solved for frequency_1(3.38099,0,0) = 1.07515 after 1 iters\n",
      "Dominant planewave for band 1: (3.380989,-0.000000,0.000000)\n",
      "MPB solved for frequency_1(3.38184,0,0) = 1.07539 after 22 iters\n",
      "MPB solved for frequency_1(3.38184,0,0) = 1.07539 after 1 iters\n",
      "Dominant planewave for band 1: (3.381836,-0.000000,0.000000)\n",
      "MPB solved for frequency_1(3.38268,0,0) = 1.07562 after 22 iters\n",
      "MPB solved for frequency_1(3.38268,0,0) = 1.07562 after 1 iters\n",
      "Dominant planewave for band 1: (3.382682,-0.000000,0.000000)\n",
      "MPB solved for frequency_1(3.38353,0,0) = 1.07586 after 22 iters\n",
      "MPB solved for frequency_1(3.38353,0,0) = 1.07586 after 1 iters\n",
      "Dominant planewave for band 1: (3.383529,-0.000000,0.000000)\n",
      "MPB solved for frequency_1(3.38438,0,0) = 1.07609 after 22 iters\n",
      "MPB solved for frequency_1(3.38438,0,0) = 1.07609 after 1 iters\n",
      "Dominant planewave for band 1: (3.384375,-0.000000,0.000000)\n",
      "MPB solved for frequency_1(3.38522,0,0) = 1.07633 after 22 iters\n",
      "MPB solved for frequency_1(3.38522,0,0) = 1.07633 after 1 iters\n",
      "Dominant planewave for band 1: (3.385222,-0.000000,0.000000)\n",
      "MPB solved for frequency_1(3.38607,0,0) = 1.07657 after 22 iters\n",
      "MPB solved for frequency_1(3.38607,0,0) = 1.07657 after 1 iters\n",
      "Dominant planewave for band 1: (3.386068,-0.000000,0.000000)\n",
      "MPB solved for frequency_1(3.38691,0,0) = 1.0768 after 22 iters\n",
      "MPB solved for frequency_1(3.38691,0,0) = 1.0768 after 1 iters\n",
      "Dominant planewave for band 1: (3.386915,-0.000000,0.000000)\n",
      "MPB solved for frequency_1(3.38776,0,0) = 1.07704 after 23 iters\n",
      "MPB solved for frequency_1(3.38776,0,0) = 1.07704 after 1 iters\n",
      "Dominant planewave for band 1: (3.387761,-0.000000,0.000000)\n",
      "MPB solved for frequency_1(3.38861,0,0) = 1.07727 after 23 iters\n",
      "MPB solved for frequency_1(3.38861,0,0) = 1.07727 after 1 iters\n",
      "Dominant planewave for band 1: (3.388607,-0.000000,0.000000)\n",
      "MPB solved for frequency_1(3.38945,0,0) = 1.07751 after 23 iters\n",
      "MPB solved for frequency_1(3.38945,0,0) = 1.07751 after 1 iters\n",
      "Dominant planewave for band 1: (3.389454,-0.000000,0.000000)\n",
      "MPB solved for frequency_1(3.3903,0,0) = 1.07775 after 23 iters\n"
     ]
    },
    {
     "name": "stdout",
     "output_type": "stream",
     "text": [
      "MPB solved for frequency_1(3.3903,0,0) = 1.07775 after 1 iters\n",
      "Dominant planewave for band 1: (3.390300,-0.000000,0.000000)\n",
      "MPB solved for frequency_1(3.39115,0,0) = 1.07798 after 23 iters\n",
      "MPB solved for frequency_1(3.39115,0,0) = 1.07798 after 1 iters\n",
      "Dominant planewave for band 1: (3.391147,-0.000000,0.000000)\n",
      "MPB solved for frequency_1(3.39199,0,0) = 1.07822 after 23 iters\n",
      "MPB solved for frequency_1(3.39199,0,0) = 1.07822 after 1 iters\n",
      "Dominant planewave for band 1: (3.391993,-0.000000,0.000000)\n",
      "MPB solved for frequency_1(3.39284,0,0) = 1.07845 after 23 iters\n",
      "MPB solved for frequency_1(3.39284,0,0) = 1.07845 after 1 iters\n",
      "Dominant planewave for band 1: (3.392840,-0.000000,0.000000)\n",
      "MPB solved for frequency_1(3.39369,0,0) = 1.07869 after 23 iters\n",
      "MPB solved for frequency_1(3.39369,0,0) = 1.07869 after 1 iters\n",
      "Dominant planewave for band 1: (3.393686,-0.000000,0.000000)\n",
      "MPB solved for frequency_1(3.39453,0,0) = 1.07893 after 23 iters\n",
      "MPB solved for frequency_1(3.39453,0,0) = 1.07893 after 1 iters\n",
      "Dominant planewave for band 1: (3.394532,-0.000000,0.000000)\n",
      "MPB solved for frequency_1(3.39538,0,0) = 1.07916 after 23 iters\n",
      "MPB solved for frequency_1(3.39538,0,0) = 1.07916 after 1 iters\n",
      "Dominant planewave for band 1: (3.395379,-0.000000,0.000000)\n",
      "MPB solved for frequency_1(3.39623,0,0) = 1.0794 after 23 iters\n",
      "MPB solved for frequency_1(3.39623,0,0) = 1.0794 after 1 iters\n",
      "Dominant planewave for band 1: (3.396225,-0.000000,0.000000)\n",
      "MPB solved for frequency_1(3.39707,0,0) = 1.07963 after 23 iters\n",
      "MPB solved for frequency_1(3.39707,0,0) = 1.07963 after 1 iters\n",
      "Dominant planewave for band 1: (3.397072,-0.000000,0.000000)\n",
      "MPB solved for frequency_1(3.39792,0,0) = 1.07987 after 23 iters\n",
      "MPB solved for frequency_1(3.39792,0,0) = 1.07987 after 1 iters\n",
      "Dominant planewave for band 1: (3.397918,-0.000000,0.000000)\n",
      "MPB solved for frequency_1(3.39876,0,0) = 1.08011 after 23 iters\n",
      "MPB solved for frequency_1(3.39876,0,0) = 1.08011 after 1 iters\n",
      "Dominant planewave for band 1: (3.398764,-0.000000,0.000000)\n",
      "MPB solved for frequency_1(3.39961,0,0) = 1.08034 after 23 iters\n",
      "MPB solved for frequency_1(3.39961,0,0) = 1.08034 after 1 iters\n",
      "Dominant planewave for band 1: (3.399611,-0.000000,0.000000)\n",
      "MPB solved for frequency_1(3.40046,0,0) = 1.08058 after 23 iters\n",
      "MPB solved for frequency_1(3.40046,0,0) = 1.08058 after 1 iters\n",
      "Dominant planewave for band 1: (3.400457,-0.000000,0.000000)\n",
      "MPB solved for frequency_1(3.4013,0,0) = 1.08081 after 23 iters\n",
      "MPB solved for frequency_1(3.4013,0,0) = 1.08081 after 1 iters\n",
      "Dominant planewave for band 1: (3.401304,-0.000000,0.000000)\n",
      "MPB solved for frequency_1(3.40215,0,0) = 1.08105 after 23 iters\n",
      "MPB solved for frequency_1(3.40215,0,0) = 1.08105 after 1 iters\n",
      "Dominant planewave for band 1: (3.402150,-0.000000,0.000000)\n"
     ]
    }
   ],
   "source": [
    "P_xp = np.array(mp.get_fluxes(xp_flux))\n",
    "P_xm = np.array(mp.get_fluxes(xm_flux))\n",
    "P_yp = np.array(mp.get_fluxes(yp_flux))\n",
    "P_ym = np.array(mp.get_fluxes(ym_flux))\n",
    "P_total = (P_xp-P_xm)+(P_yp-P_ym)\n",
    "\n",
    "xp_eig = sim.get_eigenmode_coefficients(xp_flux, [1], eig_parity=mp.NO_PARITY)\n",
    "xm_eig = sim.get_eigenmode_coefficients(xm_flux, [1], eig_parity=mp.NO_PARITY)\n",
    "\n",
    "xp_alpha = np.array(xp_eig.alpha)\n",
    "xm_alpha = np.array(xm_eig.alpha)\n",
    "\n",
    "xp_modal_power = abs(xp_alpha)**2\n",
    "xm_modal_power = abs(xm_alpha)**2"
   ]
  },
  {
   "cell_type": "code",
   "execution_count": 7,
   "id": "c8821500",
   "metadata": {},
   "outputs": [
    {
     "data": {
      "image/png": "[encoded data removed]",
      "text/plain": [
       "<Figure size 432x288 with 1 Axes>"
      ]
     },
     "metadata": {
      "needs_background": "light"
     },
     "output_type": "display_data"
    }
   ],
   "source": [
    "# plotting coupling efficiency (modal powers normalized with total output flux)\n",
    "wavl = 1/np.array(mp.get_flux_freqs(xp_flux))*1000\n",
    "\n",
    "# [-,-,-] last arg is the direction, 0=forward, 1=backward\n",
    "plt.plot(wavl, xp_modal_power[0,:,0]/P_total,\n",
    "         wavl, xm_modal_power[0,:,1]/P_total)\n",
    "plt.title('(+/-) Eigenmode Coupling Asymmetry')\n",
    "plt.xlabel('Wavelength (nm)')\n",
    "plt.ylabel('Coupling Efficiency')\n",
    "plt.legend(['(+) monitor', '(-) monitor'])\n",
    "plt.show()"
   ]
  },
  {
   "cell_type": "code",
   "execution_count": 8,
   "id": "fe8cd8a6",
   "metadata": {},
   "outputs": [
    {
     "data": {
      "image/png": "[encoded data removed]",
      "text/plain": [
       "<Figure size 432x288 with 1 Axes>"
      ]
     },
     "metadata": {
      "needs_background": "light"
     },
     "output_type": "display_data"
    }
   ],
   "source": [
    "# plotting coupling % for (+) monitor using backward direction and for (-) monitor using forward direction:\n",
    "plt.plot(wavl, xp_modal_power[0,:,1]/P_total,\n",
    "         wavl, xm_modal_power[0,:,0]/P_total)\n",
    "plt.title('(+/-) Eigenmode Coupling Asymmetry')\n",
    "plt.xlabel('Wavelength (nm)')\n",
    "plt.ylabel('Coupling Efficiency')\n",
    "plt.legend(['(+) monitor', '(-) monitor'])\n",
    "plt.show()"
   ]
  },
  {
   "cell_type": "code",
   "execution_count": 86,
   "id": "81aebd44",
   "metadata": {},
   "outputs": [],
   "source": [
    "# DO NOT RERUN THIS BOX (need to accumulate coupling % at each resolution)\n",
    "xp_coupling = []\n",
    "xm_coupling = []"
   ]
  },
  {
   "cell_type": "code",
   "execution_count": 147,
   "id": "d12c0d45",
   "metadata": {},
   "outputs": [],
   "source": [
    "# plot coupling efficiencies vs resolution\n",
    "xp_coupling.append(xp_modal_power[0, fcen_index, 0]/P_total[fcen_index])\n",
    "xm_coupling.append(xm_modal_power[0, fcen_index, 1]/P_total[fcen_index])"
   ]
  },
  {
   "cell_type": "code",
   "execution_count": 148,
   "id": "b8e66d5a",
   "metadata": {},
   "outputs": [
    {
     "name": "stdout",
     "output_type": "stream",
     "text": [
      "[0.48036103184949885, 0.2921916386251616, 0.46162025818588753, 0.45923555395397864, 0.04601128066157555, 0.3579089873079221, 0.28293853888336135]\n",
      "[0.10505351174499476, 0.21567139773181698, 0.4054036928889704, 0.4272005201850482, 0.04395459435858124, 0.3466523186372789, 0.27632000411404445]\n",
      "[20, 40, 60, 80, 100, 120, 140]\n"
     ]
    }
   ],
   "source": [
    "print(xp_coupling)\n",
    "print(xm_coupling)\n",
    "print(res_arr)"
   ]
  },
  {
   "cell_type": "code",
   "execution_count": 139,
   "id": "098a45cc",
   "metadata": {},
   "outputs": [],
   "source": [
    "sim.reset_meep()"
   ]
  },
  {
   "cell_type": "code",
   "execution_count": 162,
   "id": "be488a03",
   "metadata": {},
   "outputs": [
    {
     "data": {
      "image/png": "[encoded data removed]",
      "text/plain": [
       "<Figure size 432x288 with 1 Axes>"
      ]
     },
     "metadata": {
      "needs_background": "light"
     },
     "output_type": "display_data"
    }
   ],
   "source": [
    "fig = plt.figure()\n",
    "ax = fig.add_subplot()\n",
    "plt.plot(res_arr, xp_coupling, '-o',\n",
    "         res_arr, xm_coupling, '-o')\n",
    "plt.xlabel('Resolution')\n",
    "plt.ylabel('Coupling Efficiency')\n",
    "plt.title('(+/-) Coupling Asymmetry in Infinite Waveguide')\n",
    "ax.set_xscale('log')\n",
    "ax.set_yscale('linear')\n",
    "plt.show()"
   ]
  },
  {
   "cell_type": "code",
   "execution_count": 150,
   "id": "def64792",
   "metadata": {},
   "outputs": [
    {
     "data": {
      "image/png": "[encoded data removed]",
      "text/plain": [
       "<Figure size 432x288 with 1 Axes>"
      ]
     },
     "metadata": {
      "needs_background": "light"
     },
     "output_type": "display_data"
    }
   ],
   "source": [
    "plt.plot(np.log10(res_arr), np.log10(xp_coupling))\n",
    "plt.show()"
   ]
  },
  {
   "cell_type": "code",
   "execution_count": null,
   "id": "e3564c67",
   "metadata": {},
   "outputs": [],
   "source": []
  }
 ],
 "metadata": {
  "kernelspec": {
   "display_name": "pmeep",
   "language": "python",
   "name": "pmeep"
  },
  "language_info": {
   "codemirror_mode": {
    "name": "ipython",
    "version": 3
   },
   "file_extension": ".py",
   "mimetype": "text/x-python",
   "name": "python",
   "nbconvert_exporter": "python",
   "pygments_lexer": "ipython3",
   "version": "3.9.7"
  }
 },
 "nbformat": 4,
 "nbformat_minor": 5
}
